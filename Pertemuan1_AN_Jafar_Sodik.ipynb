{
  "cells": [
    {
      "cell_type": "markdown",
      "id": "dbd81294",
      "metadata": {
        "id": "dbd81294"
      },
      "source": [
        "$$\n",
        "\\sum_{i=1}^{100} 2^{2i+1}.\n",
        "$$"
      ]
    },
    {
      "cell_type": "code",
      "execution_count": 1,
      "id": "4c0fab72",
      "metadata": {
        "scrolled": true,
        "colab": {
          "base_uri": "https://localhost:8080/"
        },
        "id": "4c0fab72",
        "outputId": "c21b2fcf-a79a-4f1b-f890-d3fcb6067b16"
      },
      "outputs": [
        {
          "output_type": "stream",
          "name": "stdout",
          "text": [
            "Jumlahnya =  10200\n"
          ]
        }
      ],
      "source": [
        "a = 0\n",
        "\n",
        "for i in range(1,101):\n",
        "    a = a + (2^2*i+1)\n",
        "\n",
        "print(\"Jumlahnya = \", a)"
      ]
    },
    {
      "cell_type": "markdown",
      "id": "a24a54d0",
      "metadata": {
        "id": "a24a54d0"
      },
      "source": [
        "$$\n",
        "\\prod_{j=1}^{50} 2j+2.\n",
        "$$"
      ]
    },
    {
      "cell_type": "code",
      "execution_count": 2,
      "id": "a6514d2e",
      "metadata": {
        "colab": {
          "base_uri": "https://localhost:8080/"
        },
        "id": "a6514d2e",
        "outputId": "8bfa8a5a-3ba1-455a-96c2-b13e05bc2269"
      },
      "outputs": [
        {
          "output_type": "stream",
          "name": "stdout",
          "text": [
            "Hasil =  181626063822123522020699080076184218412029452484926630583264631274340352000000000000\n"
          ]
        }
      ],
      "source": [
        "hasil = 1\n",
        "for j in range(1, 51+1):\n",
        "    hasil = hasil * abs(2*j+2)\n",
        "\n",
        "print(\"Hasil = \", hasil)"
      ]
    },
    {
      "cell_type": "markdown",
      "id": "0cf54660",
      "metadata": {
        "id": "0cf54660"
      },
      "source": [
        "$$\n",
        "10!\n",
        "$$"
      ]
    },
    {
      "cell_type": "code",
      "execution_count": 4,
      "id": "37bd4f70",
      "metadata": {
        "colab": {
          "base_uri": "https://localhost:8080/"
        },
        "id": "37bd4f70",
        "outputId": "59040235-83d9-4ae8-ab32-5e6e758f9f44"
      },
      "outputs": [
        {
          "output_type": "stream",
          "name": "stdout",
          "text": [
            "3628800\n"
          ]
        }
      ],
      "source": [
        "def factorial(n):\n",
        "    if n == 0:\n",
        "        return 1\n",
        "    else:\n",
        "        return n * factorial(n-1)\n",
        "\n",
        "result = factorial(10)\n",
        "\n",
        "print( result)"
      ]
    },
    {
      "cell_type": "markdown",
      "id": "aad17d7e",
      "metadata": {
        "id": "aad17d7e"
      },
      "source": [
        "$$\n",
        "f(x) = |2x-1|,\n",
        "f(-100)=\n",
        "$$"
      ]
    },
    {
      "cell_type": "code",
      "execution_count": 3,
      "id": "e064b102",
      "metadata": {
        "colab": {
          "base_uri": "https://localhost:8080/"
        },
        "id": "e064b102",
        "outputId": "dc47862f-e857-4297-9efa-b5c250d510b4"
      },
      "outputs": [
        {
          "output_type": "stream",
          "name": "stdout",
          "text": [
            "f(-100) hasil: 201\n"
          ]
        }
      ],
      "source": [
        "def f(x):\n",
        "    return abs(2*x - 1)\n",
        "\n",
        "result = f(-100)\n",
        "\n",
        "print(\"f(-100) hasil:\", result)"
      ]
    },
    {
      "cell_type": "markdown",
      "id": "75c39626",
      "metadata": {
        "id": "75c39626"
      },
      "source": [
        "$$\n",
        "f(x)=\n",
        "\\begin{cases}\n",
        "x^{2} & \\text{x < 0}, \\\\\n",
        "x+2 & \\text{x >= 0}.\n",
        "\\end{cases}\n",
        "f(3)=\n",
        "$$"
      ]
    },
    {
      "cell_type": "code",
      "execution_count": 5,
      "id": "05f48a1f",
      "metadata": {
        "colab": {
          "base_uri": "https://localhost:8080/"
        },
        "id": "05f48a1f",
        "outputId": "cee3d925-2cf0-40b5-8169-843505242cf0"
      },
      "outputs": [
        {
          "output_type": "stream",
          "name": "stdout",
          "text": [
            "Hasil =  5\n"
          ]
        }
      ],
      "source": [
        "def f(x):\n",
        "    if x < 0:\n",
        "        return x**2\n",
        "    else:\n",
        "        return x + 2\n",
        "\n",
        "hasil = f(3)\n",
        "print(\"Hasil = \", hasil)\n"
      ]
    },
    {
      "cell_type": "markdown",
      "id": "ca5c5d6f",
      "metadata": {
        "id": "ca5c5d6f"
      },
      "source": [
        "$$\n",
        "\\begin{bmatrix}\n",
        "2 & 3 \\\\\n",
        "1 & 5\n",
        "\\end{bmatrix}\n",
        "*\n",
        "\\begin{bmatrix}\n",
        "7 & 0.5 \\\\\n",
        "4 & 0\n",
        "\\end{bmatrix}\n",
        "$$"
      ]
    },
    {
      "cell_type": "code",
      "execution_count": 6,
      "id": "d39dfe98",
      "metadata": {
        "colab": {
          "base_uri": "https://localhost:8080/"
        },
        "id": "d39dfe98",
        "outputId": "b7d4066d-9f87-47c9-c765-58c2a7030bfe"
      },
      "outputs": [
        {
          "output_type": "stream",
          "name": "stdout",
          "text": [
            "Hasil perkalian matriks:\n",
            "[[26.   1. ]\n",
            " [27.   0.5]]\n"
          ]
        }
      ],
      "source": [
        "import numpy as np\n",
        "\n",
        "matrix1 = np.array([[2, 3],\n",
        "                    [1, 5]])\n",
        "\n",
        "matrix2 = np.array([[7, 0.5],\n",
        "                    [4, 0]])\n",
        "\n",
        "result = np.dot(matrix1, matrix2)\n",
        "\n",
        "print(\"Hasil perkalian matriks:\")\n",
        "print(result)\n"
      ]
    },
    {
      "cell_type": "code",
      "execution_count": null,
      "id": "9051c647",
      "metadata": {
        "id": "9051c647"
      },
      "outputs": [],
      "source": []
    }
  ],
  "metadata": {
    "kernelspec": {
      "display_name": "Python 3 (ipykernel)",
      "language": "python",
      "name": "python3"
    },
    "language_info": {
      "codemirror_mode": {
        "name": "ipython",
        "version": 3
      },
      "file_extension": ".py",
      "mimetype": "text/x-python",
      "name": "python",
      "nbconvert_exporter": "python",
      "pygments_lexer": "ipython3",
      "version": "3.11.4"
    },
    "colab": {
      "provenance": []
    }
  },
  "nbformat": 4,
  "nbformat_minor": 5
}